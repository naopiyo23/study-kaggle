{
 "cells": [
  {
   "cell_type": "code",
   "execution_count": 28,
   "metadata": {},
   "outputs": [],
   "source": [
    "import numpy as np\n",
    "import pandas as pd\n",
    "import matplotlib.pyplot as plt\n",
    "%matplotlib inline\n",
    "import seaborn as sns\n",
    "plt.style.use('ggplot')\n",
    "\n",
    "import lightgbm as lgb\n",
    "from sklearn.model_selection import GridSearchCV\n",
    "from sklearn.metrics import  accuracy_score"
   ]
  },
  {
   "cell_type": "code",
   "execution_count": 29,
   "metadata": {},
   "outputs": [],
   "source": [
    "#  ファイルの読み込み]\n",
    "DATA_HOME_DIR = \"./raw/\"\n",
    "train = pd.read_csv(DATA_HOME_DIR + 'train.csv')\n",
    "test = pd.read_csv(DATA_HOME_DIR + 'test.csv')\n",
    "gender_submission = pd.read_csv(DATA_HOME_DIR + 'gender_submission.csv')"
   ]
  },
  {
   "cell_type": "markdown",
   "metadata": {},
   "source": [
    "前処理"
   ]
  },
  {
   "cell_type": "code",
   "execution_count": 31,
   "metadata": {},
   "outputs": [],
   "source": [
    "# 前処理のためにtrainとtestを連結\n",
    "train['is_test'] = 0\n",
    "train['is_train'] = 1\n",
    "test['is_test'] = 1 \n",
    "test['is_train'] = 0\n",
    "\n",
    "# 目的変数\n",
    "Y = train['Survived']\n",
    "train_X = train.drop(['Survived'], axis = 1)\n",
    "\n",
    "# テストID\n",
    "test_id = test['PassengerId']\n",
    "test_X = test\n",
    "\n",
    "# 連結\n",
    "all_df = pd.concat([train_X, test_X], axis=0)"
   ]
  },
  {
   "cell_type": "code",
   "execution_count": 32,
   "metadata": {},
   "outputs": [],
   "source": [
    "all_df.drop(['Name', 'Cabin', 'Ticket'],  axis=1,  inplace=True)"
   ]
  },
  {
   "cell_type": "code",
   "execution_count": 33,
   "metadata": {},
   "outputs": [],
   "source": [
    "# カテゴリ変数を取得する関数\n",
    "def _get_categorical_features(df):\n",
    "    feats = [col for col in list(df.columns) if df[col].dtype == 'object']\n",
    "    return feats\n",
    "\n",
    "# カテゴリ変数をファクトライズ (整数に置換)する関数\n",
    "def _factorize_categoricals(df, cats):\n",
    "    for col in cats:\n",
    "        df[col], _ = pd.factorize(df[col])\n",
    "    return df \n",
    "\n",
    "# カテゴリ変数のダミー変数 (二値変数化)を作成する関数\n",
    "def _get_dummies(df, cats):\n",
    "    for col in cats:\n",
    "        df = pd.concat([df, pd.get_dummies(df[col], prefix=col)], axis=1)\n",
    "    return df "
   ]
  },
  {
   "cell_type": "code",
   "execution_count": 34,
   "metadata": {},
   "outputs": [
    {
     "data": {
      "text/plain": [
       "['Sex', 'Embarked']"
      ]
     },
     "execution_count": 34,
     "metadata": {},
     "output_type": "execute_result"
    }
   ],
   "source": [
    "# カテゴリ変数を取得\n",
    "all_df_cats = _get_categorical_features(all_df)\n",
    "all_df_cats"
   ]
  },
  {
   "cell_type": "code",
   "execution_count": 35,
   "metadata": {},
   "outputs": [
    {
     "data": {
      "text/html": [
       "<div>\n",
       "<style scoped>\n",
       "    .dataframe tbody tr th:only-of-type {\n",
       "        vertical-align: middle;\n",
       "    }\n",
       "\n",
       "    .dataframe tbody tr th {\n",
       "        vertical-align: top;\n",
       "    }\n",
       "\n",
       "    .dataframe thead th {\n",
       "        text-align: right;\n",
       "    }\n",
       "</style>\n",
       "<table border=\"1\" class=\"dataframe\">\n",
       "  <thead>\n",
       "    <tr style=\"text-align: right;\">\n",
       "      <th></th>\n",
       "      <th>PassengerId</th>\n",
       "      <th>Pclass</th>\n",
       "      <th>Age</th>\n",
       "      <th>SibSp</th>\n",
       "      <th>Parch</th>\n",
       "      <th>Fare</th>\n",
       "      <th>is_test</th>\n",
       "      <th>is_train</th>\n",
       "      <th>Sex_female</th>\n",
       "      <th>Sex_male</th>\n",
       "      <th>Embarked_C</th>\n",
       "      <th>Embarked_Q</th>\n",
       "      <th>Embarked_S</th>\n",
       "    </tr>\n",
       "  </thead>\n",
       "  <tbody>\n",
       "    <tr>\n",
       "      <th>0</th>\n",
       "      <td>1</td>\n",
       "      <td>3</td>\n",
       "      <td>22.0</td>\n",
       "      <td>1</td>\n",
       "      <td>0</td>\n",
       "      <td>7.2500</td>\n",
       "      <td>0</td>\n",
       "      <td>1</td>\n",
       "      <td>0</td>\n",
       "      <td>1</td>\n",
       "      <td>0</td>\n",
       "      <td>0</td>\n",
       "      <td>1</td>\n",
       "    </tr>\n",
       "    <tr>\n",
       "      <th>1</th>\n",
       "      <td>2</td>\n",
       "      <td>1</td>\n",
       "      <td>38.0</td>\n",
       "      <td>1</td>\n",
       "      <td>0</td>\n",
       "      <td>71.2833</td>\n",
       "      <td>0</td>\n",
       "      <td>1</td>\n",
       "      <td>1</td>\n",
       "      <td>0</td>\n",
       "      <td>1</td>\n",
       "      <td>0</td>\n",
       "      <td>0</td>\n",
       "    </tr>\n",
       "    <tr>\n",
       "      <th>2</th>\n",
       "      <td>3</td>\n",
       "      <td>3</td>\n",
       "      <td>26.0</td>\n",
       "      <td>0</td>\n",
       "      <td>0</td>\n",
       "      <td>7.9250</td>\n",
       "      <td>0</td>\n",
       "      <td>1</td>\n",
       "      <td>1</td>\n",
       "      <td>0</td>\n",
       "      <td>0</td>\n",
       "      <td>0</td>\n",
       "      <td>1</td>\n",
       "    </tr>\n",
       "    <tr>\n",
       "      <th>3</th>\n",
       "      <td>4</td>\n",
       "      <td>1</td>\n",
       "      <td>35.0</td>\n",
       "      <td>1</td>\n",
       "      <td>0</td>\n",
       "      <td>53.1000</td>\n",
       "      <td>0</td>\n",
       "      <td>1</td>\n",
       "      <td>1</td>\n",
       "      <td>0</td>\n",
       "      <td>0</td>\n",
       "      <td>0</td>\n",
       "      <td>1</td>\n",
       "    </tr>\n",
       "    <tr>\n",
       "      <th>4</th>\n",
       "      <td>5</td>\n",
       "      <td>3</td>\n",
       "      <td>35.0</td>\n",
       "      <td>0</td>\n",
       "      <td>0</td>\n",
       "      <td>8.0500</td>\n",
       "      <td>0</td>\n",
       "      <td>1</td>\n",
       "      <td>0</td>\n",
       "      <td>1</td>\n",
       "      <td>0</td>\n",
       "      <td>0</td>\n",
       "      <td>1</td>\n",
       "    </tr>\n",
       "  </tbody>\n",
       "</table>\n",
       "</div>"
      ],
      "text/plain": [
       "   PassengerId  Pclass   Age  SibSp  Parch     Fare  is_test  is_train  \\\n",
       "0            1       3  22.0      1      0   7.2500        0         1   \n",
       "1            2       1  38.0      1      0  71.2833        0         1   \n",
       "2            3       3  26.0      0      0   7.9250        0         1   \n",
       "3            4       1  35.0      1      0  53.1000        0         1   \n",
       "4            5       3  35.0      0      0   8.0500        0         1   \n",
       "\n",
       "   Sex_female  Sex_male  Embarked_C  Embarked_Q  Embarked_S  \n",
       "0           0         1           0           0           1  \n",
       "1           1         0           1           0           0  \n",
       "2           1         0           0           0           1  \n",
       "3           1         0           0           0           1  \n",
       "4           0         1           0           0           1  "
      ]
     },
     "execution_count": 35,
     "metadata": {},
     "output_type": "execute_result"
    }
   ],
   "source": [
    "# ダミー変数を取得\n",
    "all_df = _get_dummies(all_df, all_df_cats)\n",
    "all_df.drop(all_df_cats,  axis=1,  inplace=True)\n",
    "all_df.head()"
   ]
  },
  {
   "cell_type": "code",
   "execution_count": 36,
   "metadata": {},
   "outputs": [],
   "source": [
    "# 最終的なtrainとtestデータを用意\n",
    "ignore_features = ['PassengerId', 'is_train', 'is_test']\n",
    "relevant_features = [col for col in all_df.columns if col not in ignore_features]\n",
    "trainX = all_df[all_df['is_train'] == 1][relevant_features]\n",
    "testX = all_df[all_df['is_test'] == 1][relevant_features]"
   ]
  },
  {
   "cell_type": "code",
   "execution_count": 37,
   "metadata": {},
   "outputs": [],
   "source": [
    "from sklearn.model_selection import train_test_split \n",
    "x_train, x_val, y_train, y_val = train_test_split(trainX, Y, test_size=0.3, random_state=18)\n",
    "lgb_train = lgb.Dataset(data=x_train, label=y_train)\n",
    "lgb_eval = lgb.Dataset(data=x_val, label=y_val)"
   ]
  },
  {
   "cell_type": "code",
   "execution_count": 38,
   "metadata": {
    "scrolled": false
   },
   "outputs": [
    {
     "name": "stdout",
     "output_type": "stream",
     "text": [
      "[1]\tvalid_0's binary_logloss: 0.620239\n",
      "Training until validation scores don't improve for 10 rounds.\n",
      "[2]\tvalid_0's binary_logloss: 0.593798\n",
      "[3]\tvalid_0's binary_logloss: 0.572528\n",
      "[4]\tvalid_0's binary_logloss: 0.554015\n",
      "[5]\tvalid_0's binary_logloss: 0.539266\n",
      "[6]\tvalid_0's binary_logloss: 0.527844\n",
      "[7]\tvalid_0's binary_logloss: 0.518635\n",
      "[8]\tvalid_0's binary_logloss: 0.510455\n",
      "[9]\tvalid_0's binary_logloss: 0.504106\n",
      "[10]\tvalid_0's binary_logloss: 0.498639\n",
      "[11]\tvalid_0's binary_logloss: 0.493381\n",
      "[12]\tvalid_0's binary_logloss: 0.490238\n",
      "[13]\tvalid_0's binary_logloss: 0.486524\n",
      "[14]\tvalid_0's binary_logloss: 0.484927\n",
      "[15]\tvalid_0's binary_logloss: 0.482375\n",
      "[16]\tvalid_0's binary_logloss: 0.481922\n",
      "[17]\tvalid_0's binary_logloss: 0.480232\n",
      "[18]\tvalid_0's binary_logloss: 0.475995\n",
      "[19]\tvalid_0's binary_logloss: 0.47274\n",
      "[20]\tvalid_0's binary_logloss: 0.469822\n",
      "[21]\tvalid_0's binary_logloss: 0.468911\n",
      "[22]\tvalid_0's binary_logloss: 0.469166\n",
      "[23]\tvalid_0's binary_logloss: 0.469686\n",
      "[24]\tvalid_0's binary_logloss: 0.471446\n",
      "[25]\tvalid_0's binary_logloss: 0.470981\n",
      "[26]\tvalid_0's binary_logloss: 0.471794\n",
      "[27]\tvalid_0's binary_logloss: 0.473901\n",
      "[28]\tvalid_0's binary_logloss: 0.472044\n",
      "[29]\tvalid_0's binary_logloss: 0.474911\n",
      "[30]\tvalid_0's binary_logloss: 0.476095\n",
      "[31]\tvalid_0's binary_logloss: 0.477123\n",
      "Early stopping, best iteration is:\n",
      "[21]\tvalid_0's binary_logloss: 0.468911\n",
      "81.48\n",
      "[1]\tvalid_0's binary_logloss: 0.644692\n",
      "Training until validation scores don't improve for 10 rounds.\n",
      "[2]\tvalid_0's binary_logloss: 0.606112\n",
      "[3]\tvalid_0's binary_logloss: 0.573165\n",
      "[4]\tvalid_0's binary_logloss: 0.549062\n",
      "[5]\tvalid_0's binary_logloss: 0.52619\n",
      "[6]\tvalid_0's binary_logloss: 0.509343\n",
      "[7]\tvalid_0's binary_logloss: 0.494977\n",
      "[8]\tvalid_0's binary_logloss: 0.482673\n",
      "[9]\tvalid_0's binary_logloss: 0.470657\n",
      "[10]\tvalid_0's binary_logloss: 0.462726\n",
      "[11]\tvalid_0's binary_logloss: 0.455257\n",
      "[12]\tvalid_0's binary_logloss: 0.45056\n",
      "[13]\tvalid_0's binary_logloss: 0.444105\n",
      "[14]\tvalid_0's binary_logloss: 0.439043\n",
      "[15]\tvalid_0's binary_logloss: 0.436404\n",
      "[16]\tvalid_0's binary_logloss: 0.432593\n",
      "[17]\tvalid_0's binary_logloss: 0.43198\n",
      "[18]\tvalid_0's binary_logloss: 0.430769\n",
      "[19]\tvalid_0's binary_logloss: 0.428811\n",
      "[20]\tvalid_0's binary_logloss: 0.428472\n",
      "[21]\tvalid_0's binary_logloss: 0.427376\n",
      "[22]\tvalid_0's binary_logloss: 0.427548\n",
      "[23]\tvalid_0's binary_logloss: 0.429525\n",
      "[24]\tvalid_0's binary_logloss: 0.428101\n",
      "[25]\tvalid_0's binary_logloss: 0.429528\n",
      "[26]\tvalid_0's binary_logloss: 0.43153\n",
      "[27]\tvalid_0's binary_logloss: 0.434958\n",
      "[28]\tvalid_0's binary_logloss: 0.435122\n",
      "[29]\tvalid_0's binary_logloss: 0.437058\n",
      "[30]\tvalid_0's binary_logloss: 0.438034\n",
      "[31]\tvalid_0's binary_logloss: 0.442602\n",
      "Early stopping, best iteration is:\n",
      "[21]\tvalid_0's binary_logloss: 0.427376\n",
      "82.49\n",
      "[1]\tvalid_0's binary_logloss: 0.616549\n",
      "Training until validation scores don't improve for 10 rounds.\n",
      "[2]\tvalid_0's binary_logloss: 0.583335\n",
      "[3]\tvalid_0's binary_logloss: 0.555298\n",
      "[4]\tvalid_0's binary_logloss: 0.533061\n",
      "[5]\tvalid_0's binary_logloss: 0.514153\n",
      "[6]\tvalid_0's binary_logloss: 0.499938\n",
      "[7]\tvalid_0's binary_logloss: 0.485138\n",
      "[8]\tvalid_0's binary_logloss: 0.474172\n",
      "[9]\tvalid_0's binary_logloss: 0.464841\n",
      "[10]\tvalid_0's binary_logloss: 0.454335\n",
      "[11]\tvalid_0's binary_logloss: 0.445641\n",
      "[12]\tvalid_0's binary_logloss: 0.438149\n",
      "[13]\tvalid_0's binary_logloss: 0.431865\n",
      "[14]\tvalid_0's binary_logloss: 0.427403\n",
      "[15]\tvalid_0's binary_logloss: 0.421002\n",
      "[16]\tvalid_0's binary_logloss: 0.418348\n",
      "[17]\tvalid_0's binary_logloss: 0.41306\n",
      "[18]\tvalid_0's binary_logloss: 0.412616\n",
      "[19]\tvalid_0's binary_logloss: 0.407606\n",
      "[20]\tvalid_0's binary_logloss: 0.404886\n",
      "[21]\tvalid_0's binary_logloss: 0.403386\n",
      "[22]\tvalid_0's binary_logloss: 0.401736\n",
      "[23]\tvalid_0's binary_logloss: 0.399573\n",
      "[24]\tvalid_0's binary_logloss: 0.398741\n",
      "[25]\tvalid_0's binary_logloss: 0.396608\n",
      "[26]\tvalid_0's binary_logloss: 0.395692\n",
      "[27]\tvalid_0's binary_logloss: 0.393542\n",
      "[28]\tvalid_0's binary_logloss: 0.392071\n",
      "[29]\tvalid_0's binary_logloss: 0.391664\n",
      "[30]\tvalid_0's binary_logloss: 0.389254\n",
      "[31]\tvalid_0's binary_logloss: 0.388664\n",
      "[32]\tvalid_0's binary_logloss: 0.38991\n",
      "[33]\tvalid_0's binary_logloss: 0.390103\n",
      "[34]\tvalid_0's binary_logloss: 0.388726\n",
      "[35]\tvalid_0's binary_logloss: 0.386427\n",
      "[36]\tvalid_0's binary_logloss: 0.385524\n",
      "[37]\tvalid_0's binary_logloss: 0.383729\n",
      "[38]\tvalid_0's binary_logloss: 0.383214\n",
      "[39]\tvalid_0's binary_logloss: 0.382952\n",
      "[40]\tvalid_0's binary_logloss: 0.382065\n",
      "[41]\tvalid_0's binary_logloss: 0.38292\n",
      "[42]\tvalid_0's binary_logloss: 0.382773\n",
      "[43]\tvalid_0's binary_logloss: 0.38453\n",
      "[44]\tvalid_0's binary_logloss: 0.384938\n",
      "[45]\tvalid_0's binary_logloss: 0.384832\n",
      "[46]\tvalid_0's binary_logloss: 0.38317\n",
      "[47]\tvalid_0's binary_logloss: 0.383228\n",
      "[48]\tvalid_0's binary_logloss: 0.382947\n",
      "[49]\tvalid_0's binary_logloss: 0.383129\n",
      "[50]\tvalid_0's binary_logloss: 0.385134\n",
      "Early stopping, best iteration is:\n",
      "[40]\tvalid_0's binary_logloss: 0.382065\n",
      "84.18\n"
     ]
    },
    {
     "name": "stderr",
     "output_type": "stream",
     "text": [
      "C:\\Users\\naofumi_honda\\Anaconda3\\lib\\site-packages\\sklearn\\preprocessing\\label.py:151: DeprecationWarning: The truth value of an empty array is ambiguous. Returning False, but in future this will result in an error. Use `array.size > 0` to check that an array is not empty.\n",
      "  if diff:\n",
      "C:\\Users\\naofumi_honda\\Anaconda3\\lib\\site-packages\\sklearn\\preprocessing\\label.py:151: DeprecationWarning: The truth value of an empty array is ambiguous. Returning False, but in future this will result in an error. Use `array.size > 0` to check that an array is not empty.\n",
      "  if diff:\n",
      "C:\\Users\\naofumi_honda\\Anaconda3\\lib\\site-packages\\sklearn\\preprocessing\\label.py:151: DeprecationWarning: The truth value of an empty array is ambiguous. Returning False, but in future this will result in an error. Use `array.size > 0` to check that an array is not empty.\n",
      "  if diff:\n"
     ]
    }
   ],
   "source": [
    "from sklearn.model_selection import KFold\n",
    "\n",
    "#  3分割交差検証を指定し、インスタンス化\n",
    "kf  =  KFold(n_splits=3)\n",
    "params  =  {\n",
    "    'objective':  'binary',\n",
    "    'learning_rate':  0.1,\n",
    "    'num_leaves'  :  300\n",
    "}\n",
    "\n",
    "# kf.split(X_train.Ytrain)で、X_trainとY_trainを3分割し、交差検証をする\n",
    "for  train_index,  test_index  in kf.split(trainX, Y):\n",
    "    X_cv_train  = trainX.iloc[train_index]\n",
    "    X_cv_test  = trainX.iloc[test_index]\n",
    "    Y_cv_train  =  Y[train_index]\n",
    "    Y_cv_test  =  Y[test_index]\n",
    "\n",
    "    #  識別機を作成\n",
    "    gbm  =  lgb.LGBMClassifier(objective='binary',\n",
    "        num_leaves  =  300,\n",
    "        learning_rate  =  0.1,\n",
    "        )\n",
    "\n",
    "    #  学習\n",
    "    gbm.fit(X_cv_train, Y_cv_train,\n",
    "    eval_set  =  [(X_cv_test,  Y_cv_test)],\n",
    "    early_stopping_rounds=10,)\n",
    "\n",
    "    #  予測し精度を表示\n",
    "    Y_pred  = gbm.predict(X_cv_test,num_iteration=gbm.best_iteration_)\n",
    "    print(round(accuracy_score(Y_cv_test,Y_pred)*100,2))"
   ]
  },
  {
   "cell_type": "code",
   "execution_count": 39,
   "metadata": {
    "scrolled": true
   },
   "outputs": [
    {
     "data": {
      "image/png": "[encoded data removed]",
      "text/plain": [
       "<matplotlib.figure.Figure at 0x20a5852bc88>"
      ]
     },
     "metadata": {},
     "output_type": "display_data"
    }
   ],
   "source": [
    "lgb.plot_importance(gbm, figsize=(12, 10));"
   ]
  },
  {
   "cell_type": "code",
   "execution_count": 41,
   "metadata": {},
   "outputs": [
    {
     "name": "stderr",
     "output_type": "stream",
     "text": [
      "C:\\Users\\naofumi_honda\\Anaconda3\\lib\\site-packages\\sklearn\\preprocessing\\label.py:151: DeprecationWarning: The truth value of an empty array is ambiguous. Returning False, but in future this will result in an error. Use `array.size > 0` to check that an array is not empty.\n",
      "  if diff:\n"
     ]
    }
   ],
   "source": [
    "gbm.fit(trainX, Y)\n",
    "# 予測\n",
    "pred = gbm.predict(testX)\n",
    "# 提出用\n",
    "gender_submission[\"Survived\"] = pred\n",
    "gender_submission.to_csv('./submit/submit_lgbm01.csv',index=None)"
   ]
  },
  {
   "cell_type": "code",
   "execution_count": null,
   "metadata": {
    "collapsed": true
   },
   "outputs": [],
   "source": []
  }
 ],
 "metadata": {
  "kernelspec": {
   "display_name": "Python 3",
   "language": "python",
   "name": "python3"
  },
  "language_info": {
   "codemirror_mode": {
    "name": "ipython",
    "version": 3
   },
   "file_extension": ".py",
   "mimetype": "text/x-python",
   "name": "python",
   "nbconvert_exporter": "python",
   "pygments_lexer": "ipython3",
   "version": "3.6.4"
  }
 },
 "nbformat": 4,
 "nbformat_minor": 2
}
